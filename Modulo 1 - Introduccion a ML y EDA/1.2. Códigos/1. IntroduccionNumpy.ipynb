{
  "nbformat": 4,
  "nbformat_minor": 0,
  "metadata": {
    "colab": {
      "provenance": []
    },
    "kernelspec": {
      "name": "python3",
      "display_name": "Python 3"
    },
    "language_info": {
      "name": "python"
    }
  },
  "cells": [
    {
      "cell_type": "markdown",
      "source": [
        "# **Introducción a Numpy ⏰**"
      ],
      "metadata": {
        "id": "unfljgCov2Re"
      }
    },
    {
      "cell_type": "markdown",
      "source": [
        "NumPy es una libreria de Algebra Lineal para Python, la razón por la cual es tan importante para Data Science con Python es que casi todas las librerias del ecosistema de PyData confían en NumPy como uno de sus principales componentes.\n",
        "\n",
        "Numpy también es increíblemente rápido, ya que tiene enlaces a librerias en C."
      ],
      "metadata": {
        "id": "Hzc1xp7EwZbb"
      }
    },
    {
      "cell_type": "markdown",
      "source": [
        "### **1. Instrucciones de Instalación e Invocación** ⛹"
      ],
      "metadata": {
        "id": "JZ7kYUHCwfhM"
      }
    },
    {
      "cell_type": "markdown",
      "source": [
        "Si esta usando google colab ya tiene instalado NumPy, de ser necesario puede instalar NumPy en el terminal escribiendo:\n",
        "\n",
        "pip install numpy\n",
        "\n",
        "Si se desea cargar la librería a la instancia de ejecución se utiliza:\n",
        "\n",
        "***import numpy as np***"
      ],
      "metadata": {
        "id": "VUM2HUE3wnbt"
      }
    },
    {
      "cell_type": "markdown",
      "source": [
        "### **2. Arreglos en Numpy (Arrays) ⛴**"
      ],
      "metadata": {
        "id": "0SO-tGmkwwQ_"
      }
    },
    {
      "cell_type": "markdown",
      "source": [
        "Los arreglos en NumPy son la principal forma de usar Numpy. Los arreglos de NumPy esencialmente vienen en dos tipos: vectores y matrices. Los vectores son estrictamente matrices de 1-d y las matrices son 2-d (pero debe tener en cuenta que una matriz aún puede tener solo una fila o una columna)."
      ],
      "metadata": {
        "id": "rPwB30fTw9ti"
      }
    },
    {
      "cell_type": "code",
      "execution_count": 4,
      "metadata": {
        "colab": {
          "base_uri": "https://localhost:8080/"
        },
        "id": "CH5koDjlvuWV",
        "outputId": "fd5ced3d-1884-4282-fbc4-3e51edefb70f"
      },
      "outputs": [
        {
          "output_type": "execute_result",
          "data": {
            "text/plain": [
              "[1, 2, 3]"
            ]
          },
          "metadata": {},
          "execution_count": 4
        }
      ],
      "source": [
        "#Podemos crear un arreglo mediante la conversión directa de una lista o lista de listas:\n",
        "\n",
        "import numpy as np\n",
        "\n",
        "my_list = [1,2,3] #lista en python\n",
        "my_list"
      ]
    },
    {
      "cell_type": "code",
      "source": [
        "np.array(my_list) #conversion de una lista a arreglo mediante el metodo 'array'\n",
        "\n",
        "a = np.array(my_list) #se puede asignar a una variable\n",
        "\n",
        "a"
      ],
      "metadata": {
        "colab": {
          "base_uri": "https://localhost:8080/"
        },
        "id": "4BehwYSGyN4Y",
        "outputId": "0d177ef7-95bd-491b-8d23-08abd611cba4"
      },
      "execution_count": 6,
      "outputs": [
        {
          "output_type": "execute_result",
          "data": {
            "text/plain": [
              "array([1, 2, 3])"
            ]
          },
          "metadata": {},
          "execution_count": 6
        }
      ]
    },
    {
      "cell_type": "code",
      "source": [
        "###Revisar el tipo de dato\n",
        "type(a) #tipo de dato"
      ],
      "metadata": {
        "colab": {
          "base_uri": "https://localhost:8080/"
        },
        "id": "0DA7v_EsyWTB",
        "outputId": "ceb7352e-643a-472d-b0b3-39b5a74a27d5"
      },
      "execution_count": 7,
      "outputs": [
        {
          "output_type": "execute_result",
          "data": {
            "text/plain": [
              "numpy.ndarray"
            ]
          },
          "metadata": {},
          "execution_count": 7
        }
      ]
    },
    {
      "cell_type": "code",
      "source": [
        "###Revisar los tipos de datos que están en el arreglo\n",
        "a.dtype  #tipo de datos que estan en el arreglo"
      ],
      "metadata": {
        "colab": {
          "base_uri": "https://localhost:8080/"
        },
        "id": "37_uEVL7yiML",
        "outputId": "732e9a95-7d8a-4eae-d3f6-245200f4b7f5"
      },
      "execution_count": 9,
      "outputs": [
        {
          "output_type": "execute_result",
          "data": {
            "text/plain": [
              "dtype('int64')"
            ]
          },
          "metadata": {},
          "execution_count": 9
        }
      ]
    },
    {
      "cell_type": "code",
      "source": [
        "# Una lista de listas\n",
        "my_matrix = [[1,2,3],[4,5,6],[7,8,9]]\n",
        "my_matrix\n",
        "\n",
        "np.array(my_matrix) # conversion de una lista de listas a Matriz\n"
      ],
      "metadata": {
        "colab": {
          "base_uri": "https://localhost:8080/"
        },
        "id": "8eVOJSWwy3G2",
        "outputId": "362a8d3b-28b5-463a-8270-d612026f5e04"
      },
      "execution_count": 10,
      "outputs": [
        {
          "output_type": "execute_result",
          "data": {
            "text/plain": [
              "array([[1, 2, 3],\n",
              "       [4, 5, 6],\n",
              "       [7, 8, 9]])"
            ]
          },
          "metadata": {},
          "execution_count": 10
        }
      ]
    },
    {
      "cell_type": "code",
      "source": [
        "b = np.array(my_matrix) # aasginar la conversion a una variable\n",
        "type(b) # tipo de dato"
      ],
      "metadata": {
        "colab": {
          "base_uri": "https://localhost:8080/"
        },
        "id": "6a0takNTy-d3",
        "outputId": "c80d5a18-2366-4918-d186-15ec09e71b87"
      },
      "execution_count": 11,
      "outputs": [
        {
          "output_type": "execute_result",
          "data": {
            "text/plain": [
              "numpy.ndarray"
            ]
          },
          "metadata": {},
          "execution_count": 11
        }
      ]
    },
    {
      "cell_type": "markdown",
      "source": [
        "### **3. Metodos integrados (Built-in Methods) ⌛**"
      ],
      "metadata": {
        "id": "LbHJLXcS1Nf2"
      }
    },
    {
      "cell_type": "markdown",
      "source": [
        "# **arange**\n",
        "Devuelve valores espaciados uniformemente dentro de un intervalo dado. Es muy parecida a la funcion range de las basicas de python."
      ],
      "metadata": {
        "id": "fFbVWs_b1Z_e"
      }
    },
    {
      "cell_type": "code",
      "source": [
        "# generar un arreglo de enteros desde 0 hasta 9,\n",
        "# recordar que el valor final no se incluye\n",
        "# arange(valor_inicial,valor_final-1)\n",
        "np.arange(0,10)"
      ],
      "metadata": {
        "colab": {
          "base_uri": "https://localhost:8080/"
        },
        "id": "KTkHI5F11VPA",
        "outputId": "5600f98e-67e3-4725-fbeb-4214c8603dcd"
      },
      "execution_count": 12,
      "outputs": [
        {
          "output_type": "execute_result",
          "data": {
            "text/plain": [
              "array([ 0,  2,  4,  6,  8, 10])"
            ]
          },
          "metadata": {},
          "execution_count": 12
        }
      ]
    },
    {
      "cell_type": "code",
      "source": [
        "## arange(valor_inicial,valor_final-1,paso)\n",
        "np.arange(0,11,2)\n"
      ],
      "metadata": {
        "colab": {
          "base_uri": "https://localhost:8080/"
        },
        "id": "KsVanBxr1i-L",
        "outputId": "25800126-6006-4a68-9fa3-b6d08a6bc6ef"
      },
      "execution_count": 13,
      "outputs": [
        {
          "output_type": "execute_result",
          "data": {
            "text/plain": [
              "array([ 0,  2,  4,  6,  8, 10])"
            ]
          },
          "metadata": {},
          "execution_count": 13
        }
      ]
    },
    {
      "cell_type": "markdown",
      "source": [
        "## **zeros y ones**\n",
        "Generar arreglos de Ceros o Unos"
      ],
      "metadata": {
        "id": "CMl2EbPG1pj4"
      }
    },
    {
      "cell_type": "code",
      "source": [
        "# Generar un arreglo de ceros que contenga 3 elementos\n",
        "np.zeros(3)"
      ],
      "metadata": {
        "colab": {
          "base_uri": "https://localhost:8080/"
        },
        "id": "5LiLMy461sow",
        "outputId": "d970e6c2-af0e-40e2-92eb-1d448f98bfc8"
      },
      "execution_count": 14,
      "outputs": [
        {
          "output_type": "execute_result",
          "data": {
            "text/plain": [
              "array([0., 0., 0.])"
            ]
          },
          "metadata": {},
          "execution_count": 14
        }
      ]
    },
    {
      "cell_type": "code",
      "source": [
        "# Generar una matriz de ceros de 5 x 5 elementos\n",
        "np.zeros((5,5))"
      ],
      "metadata": {
        "colab": {
          "base_uri": "https://localhost:8080/"
        },
        "id": "p8f3__uj1xh0",
        "outputId": "966ae17b-c04c-47d3-b845-855612ce7e44"
      },
      "execution_count": 15,
      "outputs": [
        {
          "output_type": "execute_result",
          "data": {
            "text/plain": [
              "array([[0., 0., 0., 0., 0.],\n",
              "       [0., 0., 0., 0., 0.],\n",
              "       [0., 0., 0., 0., 0.],\n",
              "       [0., 0., 0., 0., 0.],\n",
              "       [0., 0., 0., 0., 0.]])"
            ]
          },
          "metadata": {},
          "execution_count": 15
        }
      ]
    },
    {
      "cell_type": "code",
      "source": [
        "np.ones(3) # Generar un arreglo de unos que contenga 3 elementos"
      ],
      "metadata": {
        "colab": {
          "base_uri": "https://localhost:8080/"
        },
        "id": "riTrDNdu10xr",
        "outputId": "39d3fcdf-e35f-4912-80c4-2d0c27038442"
      },
      "execution_count": 16,
      "outputs": [
        {
          "output_type": "execute_result",
          "data": {
            "text/plain": [
              "array([1., 1., 1.])"
            ]
          },
          "metadata": {},
          "execution_count": 16
        }
      ]
    },
    {
      "cell_type": "code",
      "source": [
        "np.ones((3,3)) # Generar una matriz de unos de 5 x 5 elementos"
      ],
      "metadata": {
        "colab": {
          "base_uri": "https://localhost:8080/"
        },
        "id": "5paGhUFK12Jw",
        "outputId": "8ba5a758-06a0-461c-8767-578c7e67d391"
      },
      "execution_count": 17,
      "outputs": [
        {
          "output_type": "execute_result",
          "data": {
            "text/plain": [
              "array([[1., 1., 1.],\n",
              "       [1., 1., 1.],\n",
              "       [1., 1., 1.]])"
            ]
          },
          "metadata": {},
          "execution_count": 17
        }
      ]
    },
    {
      "cell_type": "markdown",
      "source": [
        "## **linspace**\n",
        "Devuelve números espaciados uniformemente durante un intervalo especificado."
      ],
      "metadata": {
        "id": "yRkd2JBg16Ts"
      }
    },
    {
      "cell_type": "code",
      "source": [
        "# Generar 3 valores iniciando en 0 y terminando en 10 (incluyendolo)\n",
        "# linspace(valor_inicial, valor_final, numero_de_elementos)\n",
        "\n",
        "np.linspace(0,10,3)"
      ],
      "metadata": {
        "colab": {
          "base_uri": "https://localhost:8080/"
        },
        "id": "gpNhOCNR18Mg",
        "outputId": "bf28a516-9f2d-484b-bbf0-e3f0174300e7"
      },
      "execution_count": 18,
      "outputs": [
        {
          "output_type": "execute_result",
          "data": {
            "text/plain": [
              "array([ 0.,  5., 10.])"
            ]
          },
          "metadata": {},
          "execution_count": 18
        }
      ]
    },
    {
      "cell_type": "code",
      "source": [
        "# Generar 50 valores iniciando en 0 y terminando en 10 (incluyendolo)\n",
        "np.linspace(0,10,50)"
      ],
      "metadata": {
        "colab": {
          "base_uri": "https://localhost:8080/"
        },
        "id": "DvqAli_r2BIT",
        "outputId": "107addb8-39aa-4f0d-f464-3636ef802075"
      },
      "execution_count": 19,
      "outputs": [
        {
          "output_type": "execute_result",
          "data": {
            "text/plain": [
              "array([ 0.        ,  0.20408163,  0.40816327,  0.6122449 ,  0.81632653,\n",
              "        1.02040816,  1.2244898 ,  1.42857143,  1.63265306,  1.83673469,\n",
              "        2.04081633,  2.24489796,  2.44897959,  2.65306122,  2.85714286,\n",
              "        3.06122449,  3.26530612,  3.46938776,  3.67346939,  3.87755102,\n",
              "        4.08163265,  4.28571429,  4.48979592,  4.69387755,  4.89795918,\n",
              "        5.10204082,  5.30612245,  5.51020408,  5.71428571,  5.91836735,\n",
              "        6.12244898,  6.32653061,  6.53061224,  6.73469388,  6.93877551,\n",
              "        7.14285714,  7.34693878,  7.55102041,  7.75510204,  7.95918367,\n",
              "        8.16326531,  8.36734694,  8.57142857,  8.7755102 ,  8.97959184,\n",
              "        9.18367347,  9.3877551 ,  9.59183673,  9.79591837, 10.        ])"
            ]
          },
          "metadata": {},
          "execution_count": 19
        }
      ]
    },
    {
      "cell_type": "markdown",
      "source": [
        "## **eye**\n",
        "Crea la matriz identidad"
      ],
      "metadata": {
        "id": "bwnPQP332Eyx"
      }
    },
    {
      "cell_type": "code",
      "source": [
        "# crea la matriz identidad de 4x4 elementos\n",
        "np.eye(4)"
      ],
      "metadata": {
        "colab": {
          "base_uri": "https://localhost:8080/"
        },
        "id": "uB0UOWSx2GEE",
        "outputId": "8c8435c8-eef3-4154-917d-b8248a381ab9"
      },
      "execution_count": 20,
      "outputs": [
        {
          "output_type": "execute_result",
          "data": {
            "text/plain": [
              "array([[1., 0., 0., 0.],\n",
              "       [0., 1., 0., 0.],\n",
              "       [0., 0., 1., 0.],\n",
              "       [0., 0., 0., 1.]])"
            ]
          },
          "metadata": {},
          "execution_count": 20
        }
      ]
    },
    {
      "cell_type": "markdown",
      "source": [
        "## **4. Numeros Aleatorios (Random) ⛵**\n"
      ],
      "metadata": {
        "id": "It9QV1XL2Oog"
      }
    },
    {
      "cell_type": "markdown",
      "source": [
        "Numpy tiene diferentes formas de crear arrelgos de numeros aleatorios, el modulo para realizar esto se llama Random:"
      ],
      "metadata": {
        "id": "gf8hEGCY2Va7"
      }
    },
    {
      "cell_type": "markdown",
      "source": [
        "## **rand**\n",
        "Crea un arreglo de la forma dada y rellenela con muestras aleatorias de una distribución uniforme sobre [0, 1)."
      ],
      "metadata": {
        "id": "-Q6kt6g62X9l"
      }
    },
    {
      "cell_type": "code",
      "source": [
        "# creacion de un arreglo de 2 elementos 1 una dimension\n",
        " #Los numeros aleatorios seran de una distribucion uniforme\n",
        "np.random.rand(2)"
      ],
      "metadata": {
        "colab": {
          "base_uri": "https://localhost:8080/"
        },
        "id": "g0R5fBxm2UJM",
        "outputId": "948009f4-6cb4-4800-fd63-0c513d19526a"
      },
      "execution_count": 21,
      "outputs": [
        {
          "output_type": "execute_result",
          "data": {
            "text/plain": [
              "array([0.02465812, 0.24765246])"
            ]
          },
          "metadata": {},
          "execution_count": 21
        }
      ]
    },
    {
      "cell_type": "code",
      "source": [
        "# creacion de un arreglo de 5x5\n",
        "#Los numeros aleatorios seran de una distribucion uniforme\n",
        "np.random.rand(5,5)"
      ],
      "metadata": {
        "colab": {
          "base_uri": "https://localhost:8080/"
        },
        "id": "Bfz328Nc2e-u",
        "outputId": "1bdcba98-a25d-4bd7-a448-24dece4e023a"
      },
      "execution_count": 22,
      "outputs": [
        {
          "output_type": "execute_result",
          "data": {
            "text/plain": [
              "array([[0.38453553, 0.3680472 , 0.10887424, 0.66744451, 0.99290282],\n",
              "       [0.9805565 , 0.28369939, 0.75529913, 0.87607031, 0.65622607],\n",
              "       [0.88059928, 0.24860546, 0.14951862, 0.36269853, 0.22534974],\n",
              "       [0.37355837, 0.75416675, 0.7625    , 0.91648137, 0.50314258],\n",
              "       [0.24989012, 0.44966983, 0.36102916, 0.16123883, 0.77759096]])"
            ]
          },
          "metadata": {},
          "execution_count": 22
        }
      ]
    },
    {
      "cell_type": "markdown",
      "source": [
        "## **randn**\n",
        "Devuelve una muestra (o muestras) de la distribución “estándar normal”. A diferencia del rand que es uniforme:"
      ],
      "metadata": {
        "id": "c41ruuCh2ihA"
      }
    },
    {
      "cell_type": "code",
      "source": [
        "# creacion de un arreglo de 2 elementos 1 una dimension\n",
        "#Los numeros aleatorios seran de una distribucion \"estándar normal\"\n",
        "np.random.randn(2)"
      ],
      "metadata": {
        "colab": {
          "base_uri": "https://localhost:8080/"
        },
        "id": "MRVoDtE62j6w",
        "outputId": "455f23b3-ce48-4906-f8a5-1caef40a3e5c"
      },
      "execution_count": 23,
      "outputs": [
        {
          "output_type": "execute_result",
          "data": {
            "text/plain": [
              "array([-0.78156264,  0.20703847])"
            ]
          },
          "metadata": {},
          "execution_count": 23
        }
      ]
    },
    {
      "cell_type": "code",
      "source": [
        "# creacion de un arreglo de 5x5\n",
        " #Los numeros aleatorios seran de una distribucion \"estándar normal\"\n",
        "np.random.randn(5,5)"
      ],
      "metadata": {
        "colab": {
          "base_uri": "https://localhost:8080/"
        },
        "id": "38sZ1CG52oNS",
        "outputId": "4194d4f3-ec6a-4ded-83c6-7ff84df86434"
      },
      "execution_count": 24,
      "outputs": [
        {
          "output_type": "execute_result",
          "data": {
            "text/plain": [
              "array([[ 1.04951763e+00,  7.30878988e-01, -8.57346612e-01,\n",
              "        -2.84064251e-01, -1.40183031e-01],\n",
              "       [-1.45258755e+00, -1.27316389e+00, -1.04059096e+00,\n",
              "        -1.10797917e+00,  2.04441225e+00],\n",
              "       [-8.70353903e-01, -1.77697226e-03, -5.50834111e-01,\n",
              "        -1.73207588e+00,  5.22265463e-01],\n",
              "       [ 8.85320992e-01, -1.05959556e+00,  1.30470818e+00,\n",
              "        -6.17530762e-01,  5.34252058e-01],\n",
              "       [ 6.07040765e-03, -1.51888212e+00, -5.66899249e-01,\n",
              "        -4.48681652e-01, -5.49953183e-01]])"
            ]
          },
          "metadata": {},
          "execution_count": 24
        }
      ]
    },
    {
      "cell_type": "markdown",
      "source": [
        "## **randint**\n",
        "Entrega numeros enteros aleatorios desde inicio (inclusivo) hasta final (exclusivo)."
      ],
      "metadata": {
        "id": "ygcAmqCS3SyV"
      }
    },
    {
      "cell_type": "code",
      "source": [
        "# Genera un numero aleatorio entre 1 y 99\n",
        "np.random.randint(1,100)"
      ],
      "metadata": {
        "colab": {
          "base_uri": "https://localhost:8080/"
        },
        "id": "dbxQSjcU3UCC",
        "outputId": "03d88919-3f25-4e86-d76f-cc5019258870"
      },
      "execution_count": 25,
      "outputs": [
        {
          "output_type": "execute_result",
          "data": {
            "text/plain": [
              "96"
            ]
          },
          "metadata": {},
          "execution_count": 25
        }
      ]
    },
    {
      "cell_type": "code",
      "source": [
        "# Genera un arreglo de 10 elementos entre 1 y 99\n",
        "np.random.randint(1,100,(10,2))"
      ],
      "metadata": {
        "colab": {
          "base_uri": "https://localhost:8080/"
        },
        "id": "urLh62_13WE2",
        "outputId": "5e88d9ae-2bdc-4da7-a3c7-2e604d05b976"
      },
      "execution_count": 26,
      "outputs": [
        {
          "output_type": "execute_result",
          "data": {
            "text/plain": [
              "array([[55, 22],\n",
              "       [36, 76],\n",
              "       [85,  5],\n",
              "       [78, 10],\n",
              "       [48, 65],\n",
              "       [48, 74],\n",
              "       [70, 69],\n",
              "       [95, 28],\n",
              "       [ 3, 95],\n",
              "       [84, 49]])"
            ]
          },
          "metadata": {},
          "execution_count": 26
        }
      ]
    },
    {
      "cell_type": "markdown",
      "source": [
        "### **5. Atributos y Metodos de los arreglos 🧙**"
      ],
      "metadata": {
        "id": "HB8GD8tS3eKx"
      }
    },
    {
      "cell_type": "code",
      "source": [
        "#Genera un arreglo de numeros enteros del 0 al 24\n",
        "arr = np.arange(25)\n",
        "\n",
        "arr"
      ],
      "metadata": {
        "colab": {
          "base_uri": "https://localhost:8080/"
        },
        "id": "eX4aQEyQ3X8A",
        "outputId": "2c8bca65-7e46-4d98-9e78-d6e3659ffc04"
      },
      "execution_count": 27,
      "outputs": [
        {
          "output_type": "execute_result",
          "data": {
            "text/plain": [
              "array([ 0,  1,  2,  3,  4,  5,  6,  7,  8,  9, 10, 11, 12, 13, 14, 15, 16,\n",
              "       17, 18, 19, 20, 21, 22, 23, 24])"
            ]
          },
          "metadata": {},
          "execution_count": 27
        }
      ]
    },
    {
      "cell_type": "code",
      "source": [
        "#Genera un arreglo de 10 elementosdel 0 al 49\n",
        "ranarr = np.random.randint(0,50,10)\n",
        "\n",
        "ranarr"
      ],
      "metadata": {
        "colab": {
          "base_uri": "https://localhost:8080/"
        },
        "id": "zKEsouwj3mpS",
        "outputId": "97ec135e-2fe6-4e1f-c2d2-277b8a269e67"
      },
      "execution_count": 28,
      "outputs": [
        {
          "output_type": "execute_result",
          "data": {
            "text/plain": [
              "array([23, 35, 32, 11, 48,  4,  0,  2, 25, 46])"
            ]
          },
          "metadata": {},
          "execution_count": 28
        }
      ]
    },
    {
      "cell_type": "markdown",
      "source": [
        "## **Reshape**\n",
        "Devuelve una matriz que contiene los mismos datos con una nueva distribucion"
      ],
      "metadata": {
        "id": "FpcYWAvE32-e"
      }
    },
    {
      "cell_type": "code",
      "source": [
        "# arr es un vector de 25 elementos\n",
        "# y se convertira en una matriz de 5x5\n",
        "arr.reshape(5,5)"
      ],
      "metadata": {
        "colab": {
          "base_uri": "https://localhost:8080/"
        },
        "id": "UKJcUOIv3rio",
        "outputId": "51d96421-ce55-46db-d6c6-065f0a3538e5"
      },
      "execution_count": 29,
      "outputs": [
        {
          "output_type": "execute_result",
          "data": {
            "text/plain": [
              "array([[ 0,  1,  2,  3,  4],\n",
              "       [ 5,  6,  7,  8,  9],\n",
              "       [10, 11, 12, 13, 14],\n",
              "       [15, 16, 17, 18, 19],\n",
              "       [20, 21, 22, 23, 24]])"
            ]
          },
          "metadata": {},
          "execution_count": 29
        }
      ]
    },
    {
      "cell_type": "markdown",
      "source": [
        "## **max,min,argmax,argmin**\n",
        "Estos son métodos útiles para encontrar valores máximos o mínimos. O para encontrar el indice de su ubicacione usando argmin o argmax"
      ],
      "metadata": {
        "id": "J6zNyQwA4cVI"
      }
    },
    {
      "cell_type": "code",
      "source": [
        "ranarr"
      ],
      "metadata": {
        "colab": {
          "base_uri": "https://localhost:8080/"
        },
        "id": "qG08BknT4d6v",
        "outputId": "15ff95b3-320f-4fc5-b620-2e65971be685"
      },
      "execution_count": 30,
      "outputs": [
        {
          "output_type": "execute_result",
          "data": {
            "text/plain": [
              "array([23, 35, 32, 11, 48,  4,  0,  2, 25, 46])"
            ]
          },
          "metadata": {},
          "execution_count": 30
        }
      ]
    },
    {
      "cell_type": "code",
      "source": [
        "ranarr.max() # Valor maximo del arreglo"
      ],
      "metadata": {
        "colab": {
          "base_uri": "https://localhost:8080/"
        },
        "id": "L-rGJ-M-4gX1",
        "outputId": "ceff91f5-294e-404f-cfd2-f0e1294fbe01"
      },
      "execution_count": 31,
      "outputs": [
        {
          "output_type": "execute_result",
          "data": {
            "text/plain": [
              "48"
            ]
          },
          "metadata": {},
          "execution_count": 31
        }
      ]
    },
    {
      "cell_type": "code",
      "source": [
        "# Posicion del valor maximo del arreglo (recordar que empieza en cero)\n",
        "ranarr.argmax()"
      ],
      "metadata": {
        "colab": {
          "base_uri": "https://localhost:8080/"
        },
        "id": "11PFXQyF4iHZ",
        "outputId": "b994373d-4d61-4302-d49e-b81a2cbbfac5"
      },
      "execution_count": 32,
      "outputs": [
        {
          "output_type": "execute_result",
          "data": {
            "text/plain": [
              "4"
            ]
          },
          "metadata": {},
          "execution_count": 32
        }
      ]
    },
    {
      "cell_type": "code",
      "source": [
        "ranarr.min() # Valor minimo del arreglo"
      ],
      "metadata": {
        "colab": {
          "base_uri": "https://localhost:8080/"
        },
        "id": "03TkuAcG4nfs",
        "outputId": "7ee22344-e6cf-402a-d82c-329426ca02bd"
      },
      "execution_count": 33,
      "outputs": [
        {
          "output_type": "execute_result",
          "data": {
            "text/plain": [
              "0"
            ]
          },
          "metadata": {},
          "execution_count": 33
        }
      ]
    },
    {
      "cell_type": "code",
      "source": [
        "# Posicion del valor maximo del arreglo (recordar que empieza en cero)\n",
        "ranarr.argmin()"
      ],
      "metadata": {
        "colab": {
          "base_uri": "https://localhost:8080/"
        },
        "id": "teoRfFFG4n2V",
        "outputId": "ae5b82f0-f50c-4073-9933-9b6b300207b9"
      },
      "execution_count": 34,
      "outputs": [
        {
          "output_type": "execute_result",
          "data": {
            "text/plain": [
              "6"
            ]
          },
          "metadata": {},
          "execution_count": 34
        }
      ]
    },
    {
      "cell_type": "markdown",
      "source": [
        "## **Shape**\n",
        "Shape es un attribute que los arreglos tienen para definir sus dimensiones (No es metodo):"
      ],
      "metadata": {
        "id": "m3kehEsY4twJ"
      }
    },
    {
      "cell_type": "code",
      "source": [
        "# Vector\n",
        "arr.shape"
      ],
      "metadata": {
        "colab": {
          "base_uri": "https://localhost:8080/"
        },
        "id": "r1BjGpER4psh",
        "outputId": "dcff383e-1cbf-4ee5-b85f-da9bf88000bd"
      },
      "execution_count": 35,
      "outputs": [
        {
          "output_type": "execute_result",
          "data": {
            "text/plain": [
              "(25,)"
            ]
          },
          "metadata": {},
          "execution_count": 35
        }
      ]
    },
    {
      "cell_type": "code",
      "source": [
        "# Cambiando las dimensiones del arreglo para que sea una matriz\n",
        "# de una sola dimension horizontal\n",
        "arr.reshape(1,25)"
      ],
      "metadata": {
        "colab": {
          "base_uri": "https://localhost:8080/"
        },
        "id": "_utKopGU4zKn",
        "outputId": "21c526b4-4fa7-4f2d-b78c-0f4538dc75e6"
      },
      "execution_count": 36,
      "outputs": [
        {
          "output_type": "execute_result",
          "data": {
            "text/plain": [
              "array([[ 0,  1,  2,  3,  4,  5,  6,  7,  8,  9, 10, 11, 12, 13, 14, 15,\n",
              "        16, 17, 18, 19, 20, 21, 22, 23, 24]])"
            ]
          },
          "metadata": {},
          "execution_count": 36
        }
      ]
    },
    {
      "cell_type": "code",
      "source": [
        "# Cambiando las dimensiones del arreglo para que sea una matriz\n",
        "# de una sola dimension vertical\n",
        "arr.reshape(25,1)"
      ],
      "metadata": {
        "colab": {
          "base_uri": "https://localhost:8080/"
        },
        "id": "6ip1PQU84zfX",
        "outputId": "0abf05f8-9815-4b2e-fc28-820329802dda"
      },
      "execution_count": 37,
      "outputs": [
        {
          "output_type": "execute_result",
          "data": {
            "text/plain": [
              "array([[ 0],\n",
              "       [ 1],\n",
              "       [ 2],\n",
              "       [ 3],\n",
              "       [ 4],\n",
              "       [ 5],\n",
              "       [ 6],\n",
              "       [ 7],\n",
              "       [ 8],\n",
              "       [ 9],\n",
              "       [10],\n",
              "       [11],\n",
              "       [12],\n",
              "       [13],\n",
              "       [14],\n",
              "       [15],\n",
              "       [16],\n",
              "       [17],\n",
              "       [18],\n",
              "       [19],\n",
              "       [20],\n",
              "       [21],\n",
              "       [22],\n",
              "       [23],\n",
              "       [24]])"
            ]
          },
          "metadata": {},
          "execution_count": 37
        }
      ]
    },
    {
      "cell_type": "code",
      "source": [
        "arr.reshape(25,1).shape"
      ],
      "metadata": {
        "colab": {
          "base_uri": "https://localhost:8080/"
        },
        "id": "KUg4QI3a5n2b",
        "outputId": "bdb00d13-271a-48b1-ae9e-aa8a6bd906a7"
      },
      "execution_count": 38,
      "outputs": [
        {
          "output_type": "execute_result",
          "data": {
            "text/plain": [
              "(25, 1)"
            ]
          },
          "metadata": {},
          "execution_count": 38
        }
      ]
    },
    {
      "cell_type": "markdown",
      "source": [
        "## **dtype**\n",
        "Para obtener los tipos de datos dentro del arreglo:"
      ],
      "metadata": {
        "id": "1h6A_ZhF5q-L"
      }
    },
    {
      "cell_type": "code",
      "source": [
        "arr.dtype"
      ],
      "metadata": {
        "colab": {
          "base_uri": "https://localhost:8080/"
        },
        "id": "46hYXoeP5yFz",
        "outputId": "c669faaa-acbb-4060-beb2-d96603d1a352"
      },
      "execution_count": 39,
      "outputs": [
        {
          "output_type": "execute_result",
          "data": {
            "text/plain": [
              "dtype('int64')"
            ]
          },
          "metadata": {},
          "execution_count": 39
        }
      ]
    },
    {
      "cell_type": "markdown",
      "source": [
        "## **size**\n",
        "Numero de elementos en un arreglo"
      ],
      "metadata": {
        "id": "-_35SF_Z5uoi"
      }
    },
    {
      "cell_type": "code",
      "source": [
        "arr_2d = np.array(([5,10,15],[20,25,30],[35,40,45]))\n",
        "arr_2d.size"
      ],
      "metadata": {
        "colab": {
          "base_uri": "https://localhost:8080/"
        },
        "id": "I-PqpAWP50oj",
        "outputId": "f1fec4a4-c1ab-44cd-9c42-99f56e8d743c"
      },
      "execution_count": 40,
      "outputs": [
        {
          "output_type": "execute_result",
          "data": {
            "text/plain": [
              "9"
            ]
          },
          "metadata": {},
          "execution_count": 40
        }
      ]
    },
    {
      "cell_type": "markdown",
      "source": [
        "## **ndim**\n",
        "Numero de dimensiones del arreglo o matriz"
      ],
      "metadata": {
        "id": "7F9xQAXW561e"
      }
    },
    {
      "cell_type": "code",
      "source": [
        "arr_2d.ndim"
      ],
      "metadata": {
        "colab": {
          "base_uri": "https://localhost:8080/"
        },
        "id": "Qdz9FulO555i",
        "outputId": "743c0951-7c10-47c1-b528-abb8b20cc1ce"
      },
      "execution_count": 41,
      "outputs": [
        {
          "output_type": "execute_result",
          "data": {
            "text/plain": [
              "2"
            ]
          },
          "metadata": {},
          "execution_count": 41
        }
      ]
    },
    {
      "cell_type": "markdown",
      "source": [
        "### **6. Indexacion y Seleccion en NumPy ⛅**"
      ],
      "metadata": {
        "id": "zk5BcAfB6DgF"
      }
    },
    {
      "cell_type": "markdown",
      "source": [
        "Como indexar y seleccionar elementos o grupos de elementos de un arreglo (array)"
      ],
      "metadata": {
        "id": "RAR74bwS6MV6"
      }
    },
    {
      "cell_type": "code",
      "source": [
        "#Creando un arreglo de ejemplo\n",
        "arr = np.arange(0,11) # Generar un arreglo de enteros del 0 hasta el 10\n",
        "arr"
      ],
      "metadata": {
        "colab": {
          "base_uri": "https://localhost:8080/"
        },
        "id": "67lImO1W5oNM",
        "outputId": "48895a2e-7972-425b-ce4f-6002c0283c65"
      },
      "execution_count": 42,
      "outputs": [
        {
          "output_type": "execute_result",
          "data": {
            "text/plain": [
              "array([ 0,  1,  2,  3,  4,  5,  6,  7,  8,  9, 10])"
            ]
          },
          "metadata": {},
          "execution_count": 42
        }
      ]
    },
    {
      "cell_type": "code",
      "source": [
        "arr.dtype # tipos de datos dentro del arreglo"
      ],
      "metadata": {
        "colab": {
          "base_uri": "https://localhost:8080/"
        },
        "id": "5dEdnaiI6RXl",
        "outputId": "087a10e8-c62e-4532-923f-d71455491f60"
      },
      "execution_count": 43,
      "outputs": [
        {
          "output_type": "execute_result",
          "data": {
            "text/plain": [
              "dtype('int64')"
            ]
          },
          "metadata": {},
          "execution_count": 43
        }
      ]
    },
    {
      "cell_type": "markdown",
      "source": [
        "### **Indexación y Selección con corchetes**\n",
        "La forma más sencilla de elegir uno o algunos elementos de una matriz es similar a las listas de Python:"
      ],
      "metadata": {
        "id": "h4IbTfX26Xmq"
      }
    },
    {
      "cell_type": "code",
      "source": [
        "# Obtener un valor conociendo su indice (index)\n",
        "arr[8]\n"
      ],
      "metadata": {
        "colab": {
          "base_uri": "https://localhost:8080/"
        },
        "id": "fHKebOWz6Z6p",
        "outputId": "f88847f5-6be2-4008-e166-2bbefbd287ff"
      },
      "execution_count": 45,
      "outputs": [
        {
          "output_type": "execute_result",
          "data": {
            "text/plain": [
              "8"
            ]
          },
          "metadata": {},
          "execution_count": 45
        }
      ]
    },
    {
      "cell_type": "code",
      "source": [
        "#Obtener los valores en un rango [valor_inicial, valor_final -1]\n",
        "arr[1:5]"
      ],
      "metadata": {
        "colab": {
          "base_uri": "https://localhost:8080/"
        },
        "id": "511J-Xbx6cH7",
        "outputId": "c53f1ff0-e638-4b13-b29c-815a8b884fd7"
      },
      "execution_count": 46,
      "outputs": [
        {
          "output_type": "execute_result",
          "data": {
            "text/plain": [
              "array([1, 2, 3, 4])"
            ]
          },
          "metadata": {},
          "execution_count": 46
        }
      ]
    },
    {
      "cell_type": "code",
      "source": [
        "#Obtener los valores en un rango [valor_inicial, valor_final -1]\n",
        "arr[0:5]"
      ],
      "metadata": {
        "colab": {
          "base_uri": "https://localhost:8080/"
        },
        "id": "SLBU4euw6fZO",
        "outputId": "623f832c-f2f5-47b7-e0d4-ded153e3bae7"
      },
      "execution_count": 47,
      "outputs": [
        {
          "output_type": "execute_result",
          "data": {
            "text/plain": [
              "array([0, 1, 2, 3, 4])"
            ]
          },
          "metadata": {},
          "execution_count": 47
        }
      ]
    },
    {
      "cell_type": "markdown",
      "source": [
        "### **Broadcasting (Difusion)**\n",
        "Los arreglos de Numpy difieren de una lista normal de Python en su capacidad de Broadcasting, que es asignar un valor a un rango de posiciones:"
      ],
      "metadata": {
        "id": "FTrFVyZL6lbC"
      }
    },
    {
      "cell_type": "code",
      "source": [
        "# definiendo un valor para todo un rango de posiciones (Broadcasting)\n",
        "# Asignar el numero 100 a las pocisiones desde el 0 hasta el 4\n",
        "arr[0:5]=100\n",
        "arr"
      ],
      "metadata": {
        "colab": {
          "base_uri": "https://localhost:8080/"
        },
        "id": "5MQU4a276nqb",
        "outputId": "4d1c6592-885a-4b76-8895-cb07ea332e79"
      },
      "execution_count": 50,
      "outputs": [
        {
          "output_type": "execute_result",
          "data": {
            "text/plain": [
              "array([100, 100, 100, 100, 100,   5,   6,   7,   8,   9,  10])"
            ]
          },
          "metadata": {},
          "execution_count": 50
        }
      ]
    },
    {
      "cell_type": "code",
      "source": [
        "#crear nuevamente el arreglo con el que estabamos trabajando\n",
        "arr = np.arange(0,11)\n",
        "arr"
      ],
      "metadata": {
        "colab": {
          "base_uri": "https://localhost:8080/"
        },
        "id": "0nYaka9H6z4M",
        "outputId": "c1535ceb-c945-4edc-c2ae-77b3ab0fcebe"
      },
      "execution_count": 51,
      "outputs": [
        {
          "output_type": "execute_result",
          "data": {
            "text/plain": [
              "array([ 0,  1,  2,  3,  4,  5,  6,  7,  8,  9, 10])"
            ]
          },
          "metadata": {},
          "execution_count": 51
        }
      ]
    },
    {
      "cell_type": "code",
      "source": [
        "#NOTA importante en la seleccion de rangos (sclicing)\n",
        "# los arreglos son mutables\n",
        "slice_of_arr = arr[0:6]\n",
        "slice_of_arr"
      ],
      "metadata": {
        "colab": {
          "base_uri": "https://localhost:8080/"
        },
        "id": "s7L9QY0e6_0Z",
        "outputId": "cd693796-fff0-499f-dd97-354c338be313"
      },
      "execution_count": 52,
      "outputs": [
        {
          "output_type": "execute_result",
          "data": {
            "text/plain": [
              "array([0, 1, 2, 3, 4, 5])"
            ]
          },
          "metadata": {},
          "execution_count": 52
        }
      ]
    },
    {
      "cell_type": "code",
      "source": [
        "#Cambiar todos los valores a 99\n",
        "slice_of_arr[:]=99\n",
        "slice_of_arr"
      ],
      "metadata": {
        "colab": {
          "base_uri": "https://localhost:8080/"
        },
        "id": "p7o19QOO7AK2",
        "outputId": "bdbb96ed-4527-492f-ffd9-fb646f255c04"
      },
      "execution_count": 53,
      "outputs": [
        {
          "output_type": "execute_result",
          "data": {
            "text/plain": [
              "array([99, 99, 99, 99, 99, 99])"
            ]
          },
          "metadata": {},
          "execution_count": 53
        }
      ]
    },
    {
      "cell_type": "markdown",
      "source": [
        "Los datos no se copian, ¡es un puntero a el arreglo original! ¡Esto evita problemas de memoria!\n",
        "\n"
      ],
      "metadata": {
        "id": "_-pMoJ717JzJ"
      }
    },
    {
      "cell_type": "code",
      "source": [
        "# Para obtener una copia, se debe hacer explicito\n",
        "arr = np.arange(0,11)\n",
        "arr_copy = arr.copy()\n",
        "arr_copy[:] = 99\n",
        "arr_copy"
      ],
      "metadata": {
        "colab": {
          "base_uri": "https://localhost:8080/"
        },
        "id": "X4NO7TN17Kdk",
        "outputId": "2fd2fbe4-2104-48e9-e022-38439e917fda"
      },
      "execution_count": 54,
      "outputs": [
        {
          "output_type": "execute_result",
          "data": {
            "text/plain": [
              "array([99, 99, 99, 99, 99, 99, 99, 99, 99, 99, 99])"
            ]
          },
          "metadata": {},
          "execution_count": 54
        }
      ]
    },
    {
      "cell_type": "code",
      "source": [
        "# Observe que el arreglo original no se modifico\n",
        "arr"
      ],
      "metadata": {
        "colab": {
          "base_uri": "https://localhost:8080/"
        },
        "id": "r1iw1IuW7UHI",
        "outputId": "5a088aac-f2fa-4a35-dad6-32ff606aa755"
      },
      "execution_count": 55,
      "outputs": [
        {
          "output_type": "execute_result",
          "data": {
            "text/plain": [
              "array([ 0,  1,  2,  3,  4,  5,  6,  7,  8,  9, 10])"
            ]
          },
          "metadata": {},
          "execution_count": 55
        }
      ]
    },
    {
      "cell_type": "markdown",
      "source": [
        "### **7. Indexacion de arreglos 2D (matrices) 🧛**"
      ],
      "metadata": {
        "id": "WUH_BcH17Y-Y"
      }
    },
    {
      "cell_type": "markdown",
      "source": [
        "El formato general es arr_2d[fila][col] o arr_2d[fila,col]. Se recomienda usar la notacion con la coma por claridad."
      ],
      "metadata": {
        "id": "aH_JH4_c7e9g"
      }
    },
    {
      "cell_type": "code",
      "source": [
        "# Creacion de una matriz de 3x3\n",
        "arr_2d = np.array(([5,10,15],[20,25,30],[35,40,45]))\n",
        "\n",
        "arr_2d"
      ],
      "metadata": {
        "colab": {
          "base_uri": "https://localhost:8080/"
        },
        "id": "l71Tgdqy7crh",
        "outputId": "da12fcc0-2fc6-4fbb-90a6-4eb3af7bdb17"
      },
      "execution_count": 56,
      "outputs": [
        {
          "output_type": "execute_result",
          "data": {
            "text/plain": [
              "array([[ 5, 10, 15],\n",
              "       [20, 25, 30],\n",
              "       [35, 40, 45]])"
            ]
          },
          "metadata": {},
          "execution_count": 56
        }
      ]
    },
    {
      "cell_type": "code",
      "source": [
        "#Indexando por filas\n",
        "# Obtener la fila 1 (en python empieza en 0)\n",
        "arr_2d[1]"
      ],
      "metadata": {
        "colab": {
          "base_uri": "https://localhost:8080/"
        },
        "id": "TcIdwG0a7jcr",
        "outputId": "30285c3e-45f3-43c1-c946-e60259759665"
      },
      "execution_count": 57,
      "outputs": [
        {
          "output_type": "execute_result",
          "data": {
            "text/plain": [
              "array([20, 25, 30])"
            ]
          },
          "metadata": {},
          "execution_count": 57
        }
      ]
    },
    {
      "cell_type": "code",
      "source": [
        "# El formato es **arr_2d[fila][col]** o **arr_2d[fila,col]**\n",
        "# Obteniendo un elemento en especifico\n",
        "arr_2d[1][0] # elemento de la fila 1 columna 0"
      ],
      "metadata": {
        "colab": {
          "base_uri": "https://localhost:8080/"
        },
        "id": "Q5AYnSqo7mw_",
        "outputId": "c4767db9-9ab9-439a-e2e4-ac4a37e7df42"
      },
      "execution_count": 58,
      "outputs": [
        {
          "output_type": "execute_result",
          "data": {
            "text/plain": [
              "20"
            ]
          },
          "metadata": {},
          "execution_count": 58
        }
      ]
    },
    {
      "cell_type": "code",
      "source": [
        "# Obteniendo un elemento en especifico\n",
        "arr_2d[1,0] # elemento de la fila 1 columna 0"
      ],
      "metadata": {
        "colab": {
          "base_uri": "https://localhost:8080/"
        },
        "id": "j5sXN4eX7vj3",
        "outputId": "724ecf19-4d95-4857-a436-b12c38e27ac7"
      },
      "execution_count": 60,
      "outputs": [
        {
          "output_type": "execute_result",
          "data": {
            "text/plain": [
              "20"
            ]
          },
          "metadata": {},
          "execution_count": 60
        }
      ]
    },
    {
      "cell_type": "code",
      "source": [
        "# seleccion de rangos en arreglos 2D (slicing)\n",
        "\n",
        "#dimensiones (2,2) desde la esquina superior derecha\n",
        "arr_2d[:2,1:] # filas [0,1] y columnas 1 hasta el final"
      ],
      "metadata": {
        "colab": {
          "base_uri": "https://localhost:8080/"
        },
        "id": "THFA7rKC7y7Z",
        "outputId": "84d772e4-0341-4d73-d5bb-4414e0a1e9ef"
      },
      "execution_count": 61,
      "outputs": [
        {
          "output_type": "execute_result",
          "data": {
            "text/plain": [
              "array([[10, 15],\n",
              "       [25, 30]])"
            ]
          },
          "metadata": {},
          "execution_count": 61
        }
      ]
    },
    {
      "cell_type": "code",
      "source": [
        "# fila de indice 2\n",
        "arr_2d[2]"
      ],
      "metadata": {
        "colab": {
          "base_uri": "https://localhost:8080/"
        },
        "id": "Dbd4t1ta7_gZ",
        "outputId": "da239fc5-d305-425e-fe40-2166d1b35289"
      },
      "execution_count": 62,
      "outputs": [
        {
          "output_type": "execute_result",
          "data": {
            "text/plain": [
              "array([35, 40, 45])"
            ]
          },
          "metadata": {},
          "execution_count": 62
        }
      ]
    },
    {
      "cell_type": "code",
      "source": [
        "# todos los elementos de las columnas que estan en la fila de posicion 2\n",
        "arr_2d[2,:]"
      ],
      "metadata": {
        "colab": {
          "base_uri": "https://localhost:8080/"
        },
        "id": "0gBTfP7X8CUv",
        "outputId": "f56bce0c-2209-4b11-80f8-c566058173d5"
      },
      "execution_count": 63,
      "outputs": [
        {
          "output_type": "execute_result",
          "data": {
            "text/plain": [
              "array([35, 40, 45])"
            ]
          },
          "metadata": {},
          "execution_count": 63
        }
      ]
    },
    {
      "cell_type": "markdown",
      "source": [
        "### **8. Indexacion especial ⌚**\n"
      ],
      "metadata": {
        "id": "onuBn2db8HK9"
      }
    },
    {
      "cell_type": "markdown",
      "source": [
        "La indexación especial permite seleccionar filas o columnas enteras desordenadas"
      ],
      "metadata": {
        "id": "G9U_hS8e8T9V"
      }
    },
    {
      "cell_type": "code",
      "source": [
        "#Creando una matriz de zeros\n",
        "arr2d = np.zeros((10,10))\n",
        "arr2d"
      ],
      "metadata": {
        "colab": {
          "base_uri": "https://localhost:8080/"
        },
        "id": "UI_YUtlP8Q35",
        "outputId": "0fcc034f-aa56-4319-cad3-761d45e6133b"
      },
      "execution_count": 64,
      "outputs": [
        {
          "output_type": "execute_result",
          "data": {
            "text/plain": [
              "array([[0., 0., 0., 0., 0., 0., 0., 0., 0., 0.],\n",
              "       [0., 0., 0., 0., 0., 0., 0., 0., 0., 0.],\n",
              "       [0., 0., 0., 0., 0., 0., 0., 0., 0., 0.],\n",
              "       [0., 0., 0., 0., 0., 0., 0., 0., 0., 0.],\n",
              "       [0., 0., 0., 0., 0., 0., 0., 0., 0., 0.],\n",
              "       [0., 0., 0., 0., 0., 0., 0., 0., 0., 0.],\n",
              "       [0., 0., 0., 0., 0., 0., 0., 0., 0., 0.],\n",
              "       [0., 0., 0., 0., 0., 0., 0., 0., 0., 0.],\n",
              "       [0., 0., 0., 0., 0., 0., 0., 0., 0., 0.],\n",
              "       [0., 0., 0., 0., 0., 0., 0., 0., 0., 0.]])"
            ]
          },
          "metadata": {},
          "execution_count": 64
        }
      ]
    },
    {
      "cell_type": "code",
      "source": [
        "#Tamaño del arreglo\n",
        "arr_length = arr2d.shape[1]\n",
        "arr_length"
      ],
      "metadata": {
        "colab": {
          "base_uri": "https://localhost:8080/"
        },
        "id": "4JVWpGOH8Yxt",
        "outputId": "18768ead-7f58-4bab-feb9-916a3527d994"
      },
      "execution_count": 65,
      "outputs": [
        {
          "output_type": "execute_result",
          "data": {
            "text/plain": [
              "10"
            ]
          },
          "metadata": {},
          "execution_count": 65
        }
      ]
    },
    {
      "cell_type": "code",
      "source": [
        "# Creando una matriz con elementos que contienen el valor correspondiente a la posicion de la fila\n",
        "for i in range(arr_length):\n",
        "    arr2d[i] = i\n",
        "\n",
        "arr2d"
      ],
      "metadata": {
        "colab": {
          "base_uri": "https://localhost:8080/"
        },
        "id": "OCP1Naoy8bGF",
        "outputId": "ae56653d-9e24-489e-ab3a-bb8ef5ed37c8"
      },
      "execution_count": 66,
      "outputs": [
        {
          "output_type": "execute_result",
          "data": {
            "text/plain": [
              "array([[0., 0., 0., 0., 0., 0., 0., 0., 0., 0.],\n",
              "       [1., 1., 1., 1., 1., 1., 1., 1., 1., 1.],\n",
              "       [2., 2., 2., 2., 2., 2., 2., 2., 2., 2.],\n",
              "       [3., 3., 3., 3., 3., 3., 3., 3., 3., 3.],\n",
              "       [4., 4., 4., 4., 4., 4., 4., 4., 4., 4.],\n",
              "       [5., 5., 5., 5., 5., 5., 5., 5., 5., 5.],\n",
              "       [6., 6., 6., 6., 6., 6., 6., 6., 6., 6.],\n",
              "       [7., 7., 7., 7., 7., 7., 7., 7., 7., 7.],\n",
              "       [8., 8., 8., 8., 8., 8., 8., 8., 8., 8.],\n",
              "       [9., 9., 9., 9., 9., 9., 9., 9., 9., 9.]])"
            ]
          },
          "metadata": {},
          "execution_count": 66
        }
      ]
    },
    {
      "cell_type": "markdown",
      "source": [
        "La indexacion especial permite:"
      ],
      "metadata": {
        "id": "UjVztEkJ8f9d"
      }
    },
    {
      "cell_type": "code",
      "source": [
        "# sacar las filas 2, 4 , 6, 8\n",
        "arr2d[[2,4,6,8]] # observe el uso de los dobles corchetes"
      ],
      "metadata": {
        "colab": {
          "base_uri": "https://localhost:8080/"
        },
        "id": "kn41wtWI8ga-",
        "outputId": "55a9cf30-9a93-464e-e06a-77de1ab244f2"
      },
      "execution_count": 67,
      "outputs": [
        {
          "output_type": "execute_result",
          "data": {
            "text/plain": [
              "array([[2., 2., 2., 2., 2., 2., 2., 2., 2., 2.],\n",
              "       [4., 4., 4., 4., 4., 4., 4., 4., 4., 4.],\n",
              "       [6., 6., 6., 6., 6., 6., 6., 6., 6., 6.],\n",
              "       [8., 8., 8., 8., 8., 8., 8., 8., 8., 8.]])"
            ]
          },
          "metadata": {},
          "execution_count": 67
        }
      ]
    },
    {
      "cell_type": "code",
      "source": [
        "#Permite cualquier orden\n",
        "arr2d[[6,4,2,7]]"
      ],
      "metadata": {
        "colab": {
          "base_uri": "https://localhost:8080/"
        },
        "id": "6KBm5HWC8kd0",
        "outputId": "d7501c00-5311-44e8-96cc-92937fecc0c0"
      },
      "execution_count": 68,
      "outputs": [
        {
          "output_type": "execute_result",
          "data": {
            "text/plain": [
              "array([[6., 6., 6., 6., 6., 6., 6., 6., 6., 6.],\n",
              "       [4., 4., 4., 4., 4., 4., 4., 4., 4., 4.],\n",
              "       [2., 2., 2., 2., 2., 2., 2., 2., 2., 2.],\n",
              "       [7., 7., 7., 7., 7., 7., 7., 7., 7., 7.]])"
            ]
          },
          "metadata": {},
          "execution_count": 68
        }
      ]
    },
    {
      "cell_type": "markdown",
      "source": [
        "### **9. Ayudas para indexacion 🐞**"
      ],
      "metadata": {
        "id": "X7lN3AQ28qhE"
      }
    },
    {
      "cell_type": "markdown",
      "source": [
        "La indexación de una matriz 2d puede ser un poco confusa al principio, especialmente cuando comienza a agregar pasos en la seleccion. Pruebe buscar imagenes en google con la parala NumPy indexing y encontrara ejemplos utiles como:![image.png](data:image/png;base64,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)"
      ],
      "metadata": {
        "id": "OA8ZWLOi-Kym"
      }
    },
    {
      "cell_type": "markdown",
      "source": [
        "### **Seleccion basados en operadores de comparación 🌽**"
      ],
      "metadata": {
        "id": "4N1RAwSV-yFu"
      }
    },
    {
      "cell_type": "code",
      "source": [
        "# creacion de un arreglo de enteros desde 0 hasta 10\n",
        "# recordar que el ultimo valor no se incluye\n",
        "arreglo = np.arange(1,11)\n",
        "arreglo"
      ],
      "metadata": {
        "colab": {
          "base_uri": "https://localhost:8080/"
        },
        "id": "EriVJg6G82An",
        "outputId": "b7f87695-5208-4b0d-be9a-c6139fd6a378"
      },
      "execution_count": 69,
      "outputs": [
        {
          "output_type": "execute_result",
          "data": {
            "text/plain": [
              "array([ 1,  2,  3,  4,  5,  6,  7,  8,  9, 10])"
            ]
          },
          "metadata": {},
          "execution_count": 69
        }
      ]
    },
    {
      "cell_type": "code",
      "source": [
        "# determinar cuales valores del arreglo son mayores que 4\n",
        "arreglo > 4\n",
        "# el resultado es un arreglo de Booleans"
      ],
      "metadata": {
        "colab": {
          "base_uri": "https://localhost:8080/"
        },
        "id": "x-fjuYjG_Kxk",
        "outputId": "f2a91dc8-66f8-4606-ed90-6a108d08b9e6"
      },
      "execution_count": 70,
      "outputs": [
        {
          "output_type": "execute_result",
          "data": {
            "text/plain": [
              "array([False, False, False, False,  True,  True,  True,  True,  True,\n",
              "        True])"
            ]
          },
          "metadata": {},
          "execution_count": 70
        }
      ]
    },
    {
      "cell_type": "code",
      "source": [
        "bool_arr = arreglo>4 # creacion de arreglo de booleans\n",
        "bool_arr"
      ],
      "metadata": {
        "colab": {
          "base_uri": "https://localhost:8080/"
        },
        "id": "GMDR1tpx_P8d",
        "outputId": "5c240cc8-4a85-44ff-ae9e-b49d50a625aa"
      },
      "execution_count": 71,
      "outputs": [
        {
          "output_type": "execute_result",
          "data": {
            "text/plain": [
              "array([False, False, False, False,  True,  True,  True,  True,  True,\n",
              "        True])"
            ]
          },
          "metadata": {},
          "execution_count": 71
        }
      ]
    },
    {
      "cell_type": "code",
      "source": [
        "# Seleccion de elementos usando un arreglo de Booleans\n",
        "\n",
        "# Solamente se retornan los elementos en los cuales las\n",
        "# posiciones de bool_arr sean verdaderas\n",
        "arreglo[bool_arr]"
      ],
      "metadata": {
        "colab": {
          "base_uri": "https://localhost:8080/"
        },
        "id": "xhBteSnS_S5l",
        "outputId": "1dfcea24-4526-4d74-95d1-a2021421c495"
      },
      "execution_count": 72,
      "outputs": [
        {
          "output_type": "execute_result",
          "data": {
            "text/plain": [
              "array([ 5,  6,  7,  8,  9, 10])"
            ]
          },
          "metadata": {},
          "execution_count": 72
        }
      ]
    },
    {
      "cell_type": "code",
      "source": [
        "# Se puede hacer esta seleccion mucho mas rapida\n",
        "# realizando la comparacion dentro de los corchetes\n",
        "\n",
        "# Obtener los valores del arreglo mayores que 2\n",
        "arreglo[arreglo>2]"
      ],
      "metadata": {
        "colab": {
          "base_uri": "https://localhost:8080/"
        },
        "id": "qryYwzJJ_WDB",
        "outputId": "77e1e785-e560-400b-98d3-07e36578196a"
      },
      "execution_count": 73,
      "outputs": [
        {
          "output_type": "execute_result",
          "data": {
            "text/plain": [
              "array([ 3,  4,  5,  6,  7,  8,  9, 10])"
            ]
          },
          "metadata": {},
          "execution_count": 73
        }
      ]
    },
    {
      "cell_type": "code",
      "source": [
        "x = 2 # se puede hacer usando una variable\n",
        "arreglo[arreglo>x]"
      ],
      "metadata": {
        "colab": {
          "base_uri": "https://localhost:8080/"
        },
        "id": "0E9perUa_Y9O",
        "outputId": "b64a9102-f146-46f1-92b9-0d5e76da641d"
      },
      "execution_count": 74,
      "outputs": [
        {
          "output_type": "execute_result",
          "data": {
            "text/plain": [
              "array([ 3,  4,  5,  6,  7,  8,  9, 10])"
            ]
          },
          "metadata": {},
          "execution_count": 74
        }
      ]
    },
    {
      "cell_type": "markdown",
      "source": [
        "## **Concatenacion 🌊**"
      ],
      "metadata": {
        "id": "hH2wQ6eM_l4P"
      }
    },
    {
      "cell_type": "code",
      "source": [
        "# En una dimension\n",
        "x = np.array([1, 2, 3]) # Vector de valores\n",
        "y = np.array([3, 2, 1]) # Vector de valores\n",
        "np.concatenate([x, y]) # Concatenacion"
      ],
      "metadata": {
        "colab": {
          "base_uri": "https://localhost:8080/"
        },
        "id": "nqTfYOoZ_q16",
        "outputId": "8e6c7f03-cd18-425a-a48a-484898a1cd3f"
      },
      "execution_count": 75,
      "outputs": [
        {
          "output_type": "execute_result",
          "data": {
            "text/plain": [
              "array([1, 2, 3, 3, 2, 1])"
            ]
          },
          "metadata": {},
          "execution_count": 75
        }
      ]
    },
    {
      "cell_type": "code",
      "source": [
        "# En dos dimensiones de forma vertical\n",
        "grid = np.array([[1, 2, 3],[4, 5, 6]])\n",
        "np.concatenate([grid, grid], axis=0)"
      ],
      "metadata": {
        "colab": {
          "base_uri": "https://localhost:8080/"
        },
        "id": "e9l95LJ4_v1N",
        "outputId": "5023c74b-413d-4247-eed8-78e1bc9cd1cd"
      },
      "execution_count": 76,
      "outputs": [
        {
          "output_type": "execute_result",
          "data": {
            "text/plain": [
              "array([[1, 2, 3],\n",
              "       [4, 5, 6],\n",
              "       [1, 2, 3],\n",
              "       [4, 5, 6]])"
            ]
          },
          "metadata": {},
          "execution_count": 76
        }
      ]
    },
    {
      "cell_type": "code",
      "source": [
        "# En dos dimensiones de forma horizontal\n",
        "grid = np.array([[1, 2, 3],[4, 5, 6]])\n",
        "np.concatenate([grid, grid], axis=1)"
      ],
      "metadata": {
        "colab": {
          "base_uri": "https://localhost:8080/"
        },
        "id": "HQ-Tpyrd_1M0",
        "outputId": "7d02b97b-2425-496c-c572-534d27a43431"
      },
      "execution_count": 77,
      "outputs": [
        {
          "output_type": "execute_result",
          "data": {
            "text/plain": [
              "array([[1, 2, 3, 1, 2, 3],\n",
              "       [4, 5, 6, 4, 5, 6]])"
            ]
          },
          "metadata": {},
          "execution_count": 77
        }
      ]
    },
    {
      "cell_type": "markdown",
      "source": [
        "## **10. Operaciones con NumPy 🥱**"
      ],
      "metadata": {
        "id": "ra7g6nzY_7Fl"
      }
    },
    {
      "cell_type": "markdown",
      "source": [
        "Con las listas de python no se pueden realizar operaciones elemento a elemento, pero con NumPy si se puede realizar.\n",
        "**Como es el comportamiento de las listas ante las siguientres operaciones:**"
      ],
      "metadata": {
        "id": "3zzzZE_3AAXk"
      }
    },
    {
      "cell_type": "code",
      "source": [
        "# observar el comportamiento de las listas\n",
        "lista = list(range(10))\n",
        "lista"
      ],
      "metadata": {
        "colab": {
          "base_uri": "https://localhost:8080/"
        },
        "id": "KkQazvSj_-RL",
        "outputId": "f08ff629-0251-4487-87fb-0b113cdaaf2a"
      },
      "execution_count": 78,
      "outputs": [
        {
          "output_type": "execute_result",
          "data": {
            "text/plain": [
              "[0, 1, 2, 3, 4, 5, 6, 7, 8, 9]"
            ]
          },
          "metadata": {},
          "execution_count": 78
        }
      ]
    },
    {
      "cell_type": "code",
      "source": [
        "lista + lista # este procedimento lo que hace es concatenar las listas"
      ],
      "metadata": {
        "colab": {
          "base_uri": "https://localhost:8080/"
        },
        "id": "hgSPadh1AHg8",
        "outputId": "b50bc14d-b5a8-417b-d224-32141ada700a"
      },
      "execution_count": 79,
      "outputs": [
        {
          "output_type": "execute_result",
          "data": {
            "text/plain": [
              "[0, 1, 2, 3, 4, 5, 6, 7, 8, 9, 0, 1, 2, 3, 4, 5, 6, 7, 8, 9]"
            ]
          },
          "metadata": {},
          "execution_count": 79
        }
      ]
    },
    {
      "cell_type": "code",
      "source": [
        "x = 2\n",
        "lista*x # este procedimento hace que se repita la lista x numero de veces"
      ],
      "metadata": {
        "colab": {
          "base_uri": "https://localhost:8080/"
        },
        "id": "TaGDgoZcAJ1s",
        "outputId": "3e7ac43b-70a4-4ff3-b3cf-a167b1bf7beb"
      },
      "execution_count": 80,
      "outputs": [
        {
          "output_type": "execute_result",
          "data": {
            "text/plain": [
              "[0, 1, 2, 3, 4, 5, 6, 7, 8, 9, 0, 1, 2, 3, 4, 5, 6, 7, 8, 9]"
            ]
          },
          "metadata": {},
          "execution_count": 80
        }
      ]
    },
    {
      "cell_type": "markdown",
      "source": [
        "Si quiero realizar operaciones vectoriales o con matrices se realizan con arreglos NumPy"
      ],
      "metadata": {
        "id": "uz8afH3SAO2w"
      }
    },
    {
      "cell_type": "markdown",
      "source": [
        "### **Aritmetica**"
      ],
      "metadata": {
        "id": "QrFjxmkFASCG"
      }
    },
    {
      "cell_type": "markdown",
      "source": [
        "Puede realizar fácilmente aritmética de matriz a matriz o aritmética de escalar con matriz."
      ],
      "metadata": {
        "id": "7o48LGDTAX5V"
      }
    },
    {
      "cell_type": "code",
      "source": [
        "arr = np.arange(0,10) # crear un arreglo de 10 elementos\n",
        "arr\n"
      ],
      "metadata": {
        "colab": {
          "base_uri": "https://localhost:8080/"
        },
        "id": "28WOJ5onAPTM",
        "outputId": "4306705f-bd27-419b-f353-5870ac9e4e8a"
      },
      "execution_count": 81,
      "outputs": [
        {
          "output_type": "execute_result",
          "data": {
            "text/plain": [
              "array([0, 1, 2, 3, 4, 5, 6, 7, 8, 9])"
            ]
          },
          "metadata": {},
          "execution_count": 81
        }
      ]
    },
    {
      "cell_type": "code",
      "source": [
        "arr + arr # Suma elemento a elemento de los arreglos"
      ],
      "metadata": {
        "colab": {
          "base_uri": "https://localhost:8080/"
        },
        "id": "VPGCMPsyAaRo",
        "outputId": "1c5e7e8f-7d5d-41d2-9143-172746064a62"
      },
      "execution_count": 82,
      "outputs": [
        {
          "output_type": "execute_result",
          "data": {
            "text/plain": [
              "array([ 0,  2,  4,  6,  8, 10, 12, 14, 16, 18])"
            ]
          },
          "metadata": {},
          "execution_count": 82
        }
      ]
    },
    {
      "cell_type": "code",
      "source": [
        "# Suma de valores uno a uno con arreglos\n",
        "aa = np.arange(5)\n",
        "bb = np.arange(10) # este arreglo es mas grande que el anterios\n",
        "aa+bb[:5] # deben tener el mismo tamaño para realizar la suma"
      ],
      "metadata": {
        "colab": {
          "base_uri": "https://localhost:8080/"
        },
        "id": "ItnSKMy2AcRX",
        "outputId": "99ff6eb9-7f8f-4d4e-9363-4fde587aadb0"
      },
      "execution_count": 83,
      "outputs": [
        {
          "output_type": "execute_result",
          "data": {
            "text/plain": [
              "array([0, 2, 4, 6, 8])"
            ]
          },
          "metadata": {},
          "execution_count": 83
        }
      ]
    },
    {
      "cell_type": "code",
      "source": [
        "arr * arr # Multiplicacion elemento a elemento"
      ],
      "metadata": {
        "colab": {
          "base_uri": "https://localhost:8080/"
        },
        "id": "efGH-vjwAjd8",
        "outputId": "862a5203-f71f-4c0c-96be-ba8b61f5b09e"
      },
      "execution_count": 84,
      "outputs": [
        {
          "output_type": "execute_result",
          "data": {
            "text/plain": [
              "array([ 0,  1,  4,  9, 16, 25, 36, 49, 64, 81])"
            ]
          },
          "metadata": {},
          "execution_count": 84
        }
      ]
    },
    {
      "cell_type": "code",
      "source": [
        "arr - arr # Resta elemento a elemento"
      ],
      "metadata": {
        "colab": {
          "base_uri": "https://localhost:8080/"
        },
        "id": "InFKxp-wAj1O",
        "outputId": "22bf6c92-76eb-4e67-805d-0333b0cd2749"
      },
      "execution_count": 85,
      "outputs": [
        {
          "output_type": "execute_result",
          "data": {
            "text/plain": [
              "array([0, 0, 0, 0, 0, 0, 0, 0, 0, 0])"
            ]
          },
          "metadata": {},
          "execution_count": 85
        }
      ]
    },
    {
      "cell_type": "code",
      "source": [
        "# Mensaje de advertencia si se presenta\n",
        "# una division por cero, pero no hay error!\n",
        "# solo se reemplazo por el valor nan\n",
        "arr/arr # division elemento a elemento"
      ],
      "metadata": {
        "colab": {
          "base_uri": "https://localhost:8080/"
        },
        "id": "05LsZ2nlAu6C",
        "outputId": "dfdaa2a3-1947-42aa-b794-4173260467e7"
      },
      "execution_count": 86,
      "outputs": [
        {
          "output_type": "stream",
          "name": "stderr",
          "text": [
            "<ipython-input-86-349551bdd6b2>:4: RuntimeWarning: invalid value encountered in divide\n",
            "  arr/arr # division elemento a elemento\n"
          ]
        },
        {
          "output_type": "execute_result",
          "data": {
            "text/plain": [
              "array([nan,  1.,  1.,  1.,  1.,  1.,  1.,  1.,  1.,  1.])"
            ]
          },
          "metadata": {},
          "execution_count": 86
        }
      ]
    },
    {
      "cell_type": "code",
      "source": [
        "# eleva al cubo cada elemento del arreglo\n",
        "arr**3"
      ],
      "metadata": {
        "colab": {
          "base_uri": "https://localhost:8080/"
        },
        "id": "R5jRNZUoAx8i",
        "outputId": "086d5f47-d9f6-4a4d-ae1f-fba4ea6d1493"
      },
      "execution_count": 87,
      "outputs": [
        {
          "output_type": "execute_result",
          "data": {
            "text/plain": [
              "array([  0,   1,   8,  27,  64, 125, 216, 343, 512, 729])"
            ]
          },
          "metadata": {},
          "execution_count": 87
        }
      ]
    },
    {
      "cell_type": "markdown",
      "source": [
        "### **11. Funciones Universales de los arreglos 🍨**"
      ],
      "metadata": {
        "id": "41ETkK9CFNDX"
      }
    },
    {
      "cell_type": "markdown",
      "source": [
        "NumPy tiene integrado muchas funciones universales, que son esencialmente solo operaciones matemáticas que se pueden usar para realizar la operación en todo el arreglo. Las mas importantes son:\n",
        "\n",
        "Matematicas\n",
        "\n",
        "1. Trigonometria\n",
        "2. Funciones de comparacion\n",
        "3. Funciones de punto flotante"
      ],
      "metadata": {
        "id": "7V-tVOQTINwQ"
      }
    },
    {
      "cell_type": "code",
      "source": [
        "#Calcular la raiz cuadrada de cada elemento\n",
        "np.sqrt(arr)"
      ],
      "metadata": {
        "colab": {
          "base_uri": "https://localhost:8080/"
        },
        "id": "RnOSgOcfFVyp",
        "outputId": "6ca798b0-e488-4d92-91c6-4819cc492bab"
      },
      "execution_count": 88,
      "outputs": [
        {
          "output_type": "execute_result",
          "data": {
            "text/plain": [
              "array([0.        , 1.        , 1.41421356, 1.73205081, 2.        ,\n",
              "       2.23606798, 2.44948974, 2.64575131, 2.82842712, 3.        ])"
            ]
          },
          "metadata": {},
          "execution_count": 88
        }
      ]
    },
    {
      "cell_type": "code",
      "source": [
        "#Calcular el exponencial (e^) de cada elemento\n",
        "np.exp(arr)"
      ],
      "metadata": {
        "colab": {
          "base_uri": "https://localhost:8080/"
        },
        "id": "ustYIPd1IcQG",
        "outputId": "1ff9cef9-0309-4f1a-9437-19fe28f873af"
      },
      "execution_count": 89,
      "outputs": [
        {
          "output_type": "execute_result",
          "data": {
            "text/plain": [
              "array([1.00000000e+00, 2.71828183e+00, 7.38905610e+00, 2.00855369e+01,\n",
              "       5.45981500e+01, 1.48413159e+02, 4.03428793e+02, 1.09663316e+03,\n",
              "       2.98095799e+03, 8.10308393e+03])"
            ]
          },
          "metadata": {},
          "execution_count": 89
        }
      ]
    },
    {
      "cell_type": "code",
      "source": [
        "# Obtener el valor maximo como una funcion\n",
        "np.max(arr) #lo mismo arr.max()"
      ],
      "metadata": {
        "colab": {
          "base_uri": "https://localhost:8080/"
        },
        "id": "6L8PhhynIesY",
        "outputId": "1c967fc4-ee50-431c-eb1e-dd583164d3bb"
      },
      "execution_count": 90,
      "outputs": [
        {
          "output_type": "execute_result",
          "data": {
            "text/plain": [
              "9"
            ]
          },
          "metadata": {},
          "execution_count": 90
        }
      ]
    },
    {
      "cell_type": "code",
      "source": [
        "# Calcular el Sin de cada elemento\n",
        "np.sin(arr)"
      ],
      "metadata": {
        "colab": {
          "base_uri": "https://localhost:8080/"
        },
        "id": "yhjpYCp_Ig_H",
        "outputId": "1f9208d5-b698-4297-a0b5-d59f701c48fd"
      },
      "execution_count": 91,
      "outputs": [
        {
          "output_type": "execute_result",
          "data": {
            "text/plain": [
              "array([ 0.        ,  0.84147098,  0.90929743,  0.14112001, -0.7568025 ,\n",
              "       -0.95892427, -0.2794155 ,  0.6569866 ,  0.98935825,  0.41211849])"
            ]
          },
          "metadata": {},
          "execution_count": 91
        }
      ]
    },
    {
      "cell_type": "code",
      "source": [
        "# Calcular el Logaritmo de cada elemento\n",
        "np.log(arr)"
      ],
      "metadata": {
        "colab": {
          "base_uri": "https://localhost:8080/"
        },
        "id": "DdVqerGxIjM2",
        "outputId": "e487dcdc-0d0c-4451-fc7f-f39ab478d35b"
      },
      "execution_count": 92,
      "outputs": [
        {
          "output_type": "stream",
          "name": "stderr",
          "text": [
            "<ipython-input-92-60f9814ce6fb>:2: RuntimeWarning: divide by zero encountered in log\n",
            "  np.log(arr)\n"
          ]
        },
        {
          "output_type": "execute_result",
          "data": {
            "text/plain": [
              "array([      -inf, 0.        , 0.69314718, 1.09861229, 1.38629436,\n",
              "       1.60943791, 1.79175947, 1.94591015, 2.07944154, 2.19722458])"
            ]
          },
          "metadata": {},
          "execution_count": 92
        }
      ]
    },
    {
      "cell_type": "code",
      "source": [
        "# Calcular el valor absoluto\n",
        "np.abs(arr)"
      ],
      "metadata": {
        "colab": {
          "base_uri": "https://localhost:8080/"
        },
        "id": "VZY4WdMPIlvX",
        "outputId": "d4245339-392c-4e62-9f0c-425591c60400"
      },
      "execution_count": 93,
      "outputs": [
        {
          "output_type": "execute_result",
          "data": {
            "text/plain": [
              "array([0, 1, 2, 3, 4, 5, 6, 7, 8, 9])"
            ]
          },
          "metadata": {},
          "execution_count": 93
        }
      ]
    },
    {
      "cell_type": "markdown",
      "source": [
        "### **12. Estadistica 🦖**\n",
        "Mas funciones en:"
      ],
      "metadata": {
        "id": "uFYZTF6pIqf4"
      }
    },
    {
      "cell_type": "code",
      "source": [
        "# Desviacion estandar\n",
        "np.std(arr)"
      ],
      "metadata": {
        "colab": {
          "base_uri": "https://localhost:8080/"
        },
        "id": "zEuVrnvGIxPa",
        "outputId": "3b9fd1e9-d609-4c3d-c2aa-720c2cac6c9a"
      },
      "execution_count": 94,
      "outputs": [
        {
          "output_type": "execute_result",
          "data": {
            "text/plain": [
              "2.8722813232690143"
            ]
          },
          "metadata": {},
          "execution_count": 94
        }
      ]
    },
    {
      "cell_type": "code",
      "source": [
        "# Promedio de los valores\n",
        "np.mean(arr)"
      ],
      "metadata": {
        "colab": {
          "base_uri": "https://localhost:8080/"
        },
        "id": "5TVM2jQnI1aI",
        "outputId": "7dd87c03-dfb9-46a4-dece-0b3f7ed90360"
      },
      "execution_count": 95,
      "outputs": [
        {
          "output_type": "execute_result",
          "data": {
            "text/plain": [
              "4.5"
            ]
          },
          "metadata": {},
          "execution_count": 95
        }
      ]
    },
    {
      "cell_type": "code",
      "source": [
        "# Media\n",
        "np.median(arr)"
      ],
      "metadata": {
        "colab": {
          "base_uri": "https://localhost:8080/"
        },
        "id": "88keZytfI3sY",
        "outputId": "d1ab4dfe-20b3-4105-82cb-ae6a9cb643c4"
      },
      "execution_count": 96,
      "outputs": [
        {
          "output_type": "execute_result",
          "data": {
            "text/plain": [
              "4.5"
            ]
          },
          "metadata": {},
          "execution_count": 96
        }
      ]
    },
    {
      "cell_type": "code",
      "source": [
        "# Varianza\n",
        "np.var(arr)"
      ],
      "metadata": {
        "colab": {
          "base_uri": "https://localhost:8080/"
        },
        "id": "HatS6RgTI89Y",
        "outputId": "193fc73c-f212-43f7-9ca5-b84e8076ca3c"
      },
      "execution_count": 97,
      "outputs": [
        {
          "output_type": "execute_result",
          "data": {
            "text/plain": [
              "8.25"
            ]
          },
          "metadata": {},
          "execution_count": 97
        }
      ]
    },
    {
      "cell_type": "markdown",
      "source": [
        "### **13. Operaciones de Matrices ✊**"
      ],
      "metadata": {
        "id": "79Ri-6ZpJDEs"
      }
    },
    {
      "cell_type": "code",
      "source": [
        "#creacion de una matriz de ejemplo\n",
        "arr_2d = np.array(([5,10,15],[20,25,30],[35,40,45]))\n",
        "arr_2d"
      ],
      "metadata": {
        "colab": {
          "base_uri": "https://localhost:8080/"
        },
        "id": "8Z292iJ7JIru",
        "outputId": "7133ca44-058a-492a-c55f-28002e77fe75"
      },
      "execution_count": 98,
      "outputs": [
        {
          "output_type": "execute_result",
          "data": {
            "text/plain": [
              "array([[ 5, 10, 15],\n",
              "       [20, 25, 30],\n",
              "       [35, 40, 45]])"
            ]
          },
          "metadata": {},
          "execution_count": 98
        }
      ]
    },
    {
      "cell_type": "code",
      "source": [
        "# transpuesta de una matriz\n",
        "arr_2d.T # tambien puede ser arr_2d.transpose()"
      ],
      "metadata": {
        "colab": {
          "base_uri": "https://localhost:8080/"
        },
        "id": "TmUpORSqJKz_",
        "outputId": "3b18d93f-2ab3-4f45-85ed-5d5467b3d6a0"
      },
      "execution_count": 99,
      "outputs": [
        {
          "output_type": "execute_result",
          "data": {
            "text/plain": [
              "array([[ 5, 20, 35],\n",
              "       [10, 25, 40],\n",
              "       [15, 30, 45]])"
            ]
          },
          "metadata": {},
          "execution_count": 99
        }
      ]
    },
    {
      "cell_type": "code",
      "source": [
        "# Multiplicacion de matrices\n",
        "a = np.array([1,4,3]) # vector = arreglo de 1 dimension\n",
        "b = np.array([2,-1,5]) # vector = arreglo de 1 dimension\n",
        "a@b"
      ],
      "metadata": {
        "colab": {
          "base_uri": "https://localhost:8080/"
        },
        "id": "OeQDfITjJQjB",
        "outputId": "49540483-4bf6-4414-8d90-f6a2e5a2451f"
      },
      "execution_count": 100,
      "outputs": [
        {
          "output_type": "execute_result",
          "data": {
            "text/plain": [
              "13"
            ]
          },
          "metadata": {},
          "execution_count": 100
        }
      ]
    },
    {
      "cell_type": "code",
      "source": [
        "# Multiplicacion de matrices\n",
        "# Producto Punto\n",
        "a = np.array(([2,0,1],[3,0,0],[5,1,1]))\n",
        "b = np.array(([1,0,1],[1,2,1],[1,1,0]))\n",
        "a@b"
      ],
      "metadata": {
        "colab": {
          "base_uri": "https://localhost:8080/"
        },
        "id": "WD2PaDH9JTe_",
        "outputId": "66d4d92b-6ced-4391-de75-69433534f8ab"
      },
      "execution_count": 102,
      "outputs": [
        {
          "output_type": "execute_result",
          "data": {
            "text/plain": [
              "array([[3, 1, 2],\n",
              "       [3, 0, 3],\n",
              "       [7, 3, 6]])"
            ]
          },
          "metadata": {},
          "execution_count": 102
        }
      ]
    },
    {
      "cell_type": "code",
      "source": [
        "#Tambien puede ser de esta forma\n",
        "np.dot(a,b)"
      ],
      "metadata": {
        "colab": {
          "base_uri": "https://localhost:8080/"
        },
        "id": "ZtmJ6DmsJX3q",
        "outputId": "2d38e931-727a-4b1f-dd25-2edf7948cd00"
      },
      "execution_count": 103,
      "outputs": [
        {
          "output_type": "execute_result",
          "data": {
            "text/plain": [
              "array([[3, 1, 2],\n",
              "       [3, 0, 3],\n",
              "       [7, 3, 6]])"
            ]
          },
          "metadata": {},
          "execution_count": 103
        }
      ]
    },
    {
      "cell_type": "code",
      "source": [
        "# Producto Cruz\n",
        "a = np.array([1,4,3]) # vector = arreglo de 1 dimension\n",
        "b = np.array([2,-1,5]) # vector = arreglo de 1 dimensi\n",
        "np.cross(a,b)"
      ],
      "metadata": {
        "colab": {
          "base_uri": "https://localhost:8080/"
        },
        "id": "orIYXFOWJbO6",
        "outputId": "97612c2f-8927-41d5-be5c-6fa6e711503c"
      },
      "execution_count": 104,
      "outputs": [
        {
          "output_type": "execute_result",
          "data": {
            "text/plain": [
              "array([23,  1, -9])"
            ]
          },
          "metadata": {},
          "execution_count": 104
        }
      ]
    }
  ]
}